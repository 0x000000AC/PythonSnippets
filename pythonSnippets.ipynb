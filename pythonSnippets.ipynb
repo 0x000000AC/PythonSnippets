{
 "cells": [
  {
   "cell_type": "markdown",
   "id": "e724be92",
   "metadata": {},
   "source": [
    "## Byte strings in Python 3 are not strings!\n",
    "\n",
    "In the switch from 2.7 to 3.x it is easy to take for granted the implicit operations in 2.  If you only operate in byte strings (by appending the b) because since I'm often using it for binary data, it is just wiser to deal with bytes.  If you want to go from one to the other you have to encode/deode. "
   ]
  },
  {
   "cell_type": "code",
   "execution_count": 2,
   "id": "3da1c9a0",
   "metadata": {},
   "outputs": [
    {
     "name": "stdout",
     "output_type": "stream",
     "text": [
      "b'test'\n",
      "test\n"
     ]
    }
   ],
   "source": [
    "import binascii\n",
    "\n",
    "string_example = \"test\"\n",
    "byte_array_example = b\"test\"\n",
    "\n",
    "# Convert string into bytes\n",
    "# utf-8 is the same as ascii so single byte = single letter\n",
    "print(string_example.encode('utf-8'))\n",
    "\n",
    "# Convert byte array into string\n",
    "print(byte_array_example.decode('utf-8'))"
   ]
  },
  {
   "cell_type": "markdown",
   "id": "b601cb5a",
   "metadata": {},
   "source": [
    "## Hex Encoding Binary Data\n",
    "Using the test string:\n",
    "example_data = b'\\x02\\x00\\x00\\x00\\x00\\x04\\x00\\x00\\x00test\\x01\\x04\\x00\\x00\\x00t\\x00e\\x00s\\x00t\\x00'\n",
    "\n",
    "If you're copying hex encoded strings from other programs, probably going to be doing one of these functions."
   ]
  },
  {
   "cell_type": "code",
   "execution_count": 3,
   "id": "56d4b289",
   "metadata": {},
   "outputs": [
    {
     "name": "stdout",
     "output_type": "stream",
     "text": [
      "This is hex encoded data: b'0200000000040000007465737401040000007400650073007400'\n"
     ]
    }
   ],
   "source": [
    "example_data = b'\\x02\\x00\\x00\\x00\\x00\\x04\\x00\\x00\\x00test\\x01\\x04\\x00\\x00\\x00t\\x00e\\x00s\\x00t\\x00'\n",
    "\n",
    "def unhex(hex_string):\n",
    "    import binascii\n",
    "    if type(hex_string) == str:\n",
    "        return binascii.unhexlify(hex_string.encode('utf-8'))\n",
    "    else:\n",
    "        return binascii.unhexlify(hex_string)\n",
    "\n",
    "    \n",
    "def tohex(data):\n",
    "    import binascii\n",
    "    # Just in case the function is passed a string v byte string. Just convert it to a byte string.\n",
    "    if type(data) == str:\n",
    "        return binascii.hexlify(data.encode('utf-8'))\n",
    "    else:\n",
    "        return binascii.hexlify(data)\n",
    "\n",
    "print(\"This is hex encoded data: %r\" % tohex(example_data))"
   ]
  },
  {
   "cell_type": "markdown",
   "id": "99e75e50",
   "metadata": {},
   "source": [
    "## Use struct to convert between types\n",
    "https://docs.python.org/3/library/struct.html\n"
   ]
  },
  {
   "cell_type": "code",
   "execution_count": null,
   "id": "380dd6cc",
   "metadata": {},
   "outputs": [],
   "source": []
  }
 ],
 "metadata": {
  "kernelspec": {
   "display_name": "Python 3",
   "language": "python",
   "name": "python3"
  },
  "language_info": {
   "codemirror_mode": {
    "name": "ipython",
    "version": 3
   },
   "file_extension": ".py",
   "mimetype": "text/x-python",
   "name": "python",
   "nbconvert_exporter": "python",
   "pygments_lexer": "ipython3",
   "version": "3.8.8"
  }
 },
 "nbformat": 4,
 "nbformat_minor": 5
}
