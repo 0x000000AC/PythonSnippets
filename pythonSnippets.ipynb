{
 "cells": [
  {
   "cell_type": "markdown",
   "id": "7d94eca1",
   "metadata": {},
   "source": [
    "## Byte strings in Python 3 are not strings!\n",
    "\n",
    "In the switch from 2.7 to 3.x it is easy to take for granted the implicit operations in 2.  If you only operate in byte strings (by appending the b) because since I'm often using it for binary data, it is just wiser to deal with bytes.  If you want to go from one to the other you have to encode/deode. "
   ]
  },
  {
   "cell_type": "code",
   "execution_count": null,
   "id": "55a1c493",
   "metadata": {},
   "outputs": [],
   "source": [
    "import binascii\n"
   ]
  }
 ],
 "metadata": {
  "kernelspec": {
   "display_name": "Python 3",
   "language": "python",
   "name": "python3"
  },
  "language_info": {
   "codemirror_mode": {
    "name": "ipython",
    "version": 3
   },
   "file_extension": ".py",
   "mimetype": "text/x-python",
   "name": "python",
   "nbconvert_exporter": "python",
   "pygments_lexer": "ipython3",
   "version": "3.8.8"
  }
 },
 "nbformat": 4,
 "nbformat_minor": 5
}
